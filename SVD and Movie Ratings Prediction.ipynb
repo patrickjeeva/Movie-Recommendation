{
 "cells": [
  {
   "cell_type": "markdown",
   "metadata": {},
   "source": [
    "# Ratings prediction using SVD\n",
    "\n",
    "We first try to gain some intuition on SVD using a small toy dataset. Let the following be a user-movie rating dataset where every user has rated every movie. "
   ]
  },
  {
   "cell_type": "code",
   "execution_count": 2,
   "metadata": {},
   "outputs": [
    {
     "data": {
      "text/html": [
       "<div>\n",
       "<style scoped>\n",
       "    .dataframe tbody tr th:only-of-type {\n",
       "        vertical-align: middle;\n",
       "    }\n",
       "\n",
       "    .dataframe tbody tr th {\n",
       "        vertical-align: top;\n",
       "    }\n",
       "\n",
       "    .dataframe thead th {\n",
       "        text-align: right;\n",
       "    }\n",
       "</style>\n",
       "<table border=\"1\" class=\"dataframe\">\n",
       "  <thead>\n",
       "    <tr style=\"text-align: right;\">\n",
       "      <th></th>\n",
       "      <th>horror1</th>\n",
       "      <th>horror2</th>\n",
       "      <th>drama1</th>\n",
       "      <th>drama2</th>\n",
       "      <th>art1</th>\n",
       "      <th>art2</th>\n",
       "    </tr>\n",
       "  </thead>\n",
       "  <tbody>\n",
       "    <tr>\n",
       "      <th>u0</th>\n",
       "      <td>1</td>\n",
       "      <td>2</td>\n",
       "      <td>8</td>\n",
       "      <td>9</td>\n",
       "      <td>3</td>\n",
       "      <td>3</td>\n",
       "    </tr>\n",
       "    <tr>\n",
       "      <th>u1</th>\n",
       "      <td>2</td>\n",
       "      <td>1</td>\n",
       "      <td>9</td>\n",
       "      <td>8</td>\n",
       "      <td>4</td>\n",
       "      <td>2</td>\n",
       "    </tr>\n",
       "    <tr>\n",
       "      <th>u2</th>\n",
       "      <td>2</td>\n",
       "      <td>2</td>\n",
       "      <td>6</td>\n",
       "      <td>8</td>\n",
       "      <td>2</td>\n",
       "      <td>3</td>\n",
       "    </tr>\n",
       "    <tr>\n",
       "      <th>u3</th>\n",
       "      <td>9</td>\n",
       "      <td>7</td>\n",
       "      <td>2</td>\n",
       "      <td>3</td>\n",
       "      <td>1</td>\n",
       "      <td>1</td>\n",
       "    </tr>\n",
       "    <tr>\n",
       "      <th>u4</th>\n",
       "      <td>1</td>\n",
       "      <td>1</td>\n",
       "      <td>1</td>\n",
       "      <td>2</td>\n",
       "      <td>8</td>\n",
       "      <td>7</td>\n",
       "    </tr>\n",
       "    <tr>\n",
       "      <th>u5</th>\n",
       "      <td>2</td>\n",
       "      <td>2</td>\n",
       "      <td>3</td>\n",
       "      <td>2</td>\n",
       "      <td>8</td>\n",
       "      <td>8</td>\n",
       "    </tr>\n",
       "    <tr>\n",
       "      <th>u6</th>\n",
       "      <td>7</td>\n",
       "      <td>9</td>\n",
       "      <td>2</td>\n",
       "      <td>2</td>\n",
       "      <td>2</td>\n",
       "      <td>3</td>\n",
       "    </tr>\n",
       "    <tr>\n",
       "      <th>u7</th>\n",
       "      <td>9</td>\n",
       "      <td>8</td>\n",
       "      <td>2</td>\n",
       "      <td>3</td>\n",
       "      <td>1</td>\n",
       "      <td>3</td>\n",
       "    </tr>\n",
       "    <tr>\n",
       "      <th>u8</th>\n",
       "      <td>7</td>\n",
       "      <td>1</td>\n",
       "      <td>1</td>\n",
       "      <td>9</td>\n",
       "      <td>2</td>\n",
       "      <td>8</td>\n",
       "    </tr>\n",
       "  </tbody>\n",
       "</table>\n",
       "</div>"
      ],
      "text/plain": [
       "    horror1  horror2  drama1  drama2  art1  art2\n",
       "u0        1        2       8       9     3     3\n",
       "u1        2        1       9       8     4     2\n",
       "u2        2        2       6       8     2     3\n",
       "u3        9        7       2       3     1     1\n",
       "u4        1        1       1       2     8     7\n",
       "u5        2        2       3       2     8     8\n",
       "u6        7        9       2       2     2     3\n",
       "u7        9        8       2       3     1     3\n",
       "u8        7        1       1       9     2     8"
      ]
     },
     "execution_count": 2,
     "metadata": {},
     "output_type": "execute_result"
    }
   ],
   "source": [
    "import numpy as np\n",
    "import pandas as pd\n",
    "\n",
    "np.set_printoptions(formatter={'float': lambda x: \"{0:0.2f}\".format(x)})\n",
    "\n",
    "#df = pd.DataFrame([[1,2,8,9,3,3],[2,1,9,8,4,2],[2,2,6,8,2,3],\n",
    "#                   [9,7,2,3,1,1],[1,1,1,2,8,7],[2,2,3,2,8,8],\n",
    "#                   [7,9,2,2,2,3],[9,8,2,3,1,3]], \n",
    "#                  columns=[\"horror1\",\"horror2\",\"drama1\",\"drama2\",\"art1\",\"art2\"], \n",
    "#                  index=[\"u0\",\"u1\",\"u2\",\"u3\",\"u4\",\"u5\",\"u6\",\"u7\"])\n",
    "\n",
    "df = pd.DataFrame([[1,2,8,9,3,3],[2,1,9,8,4,2],[2,2,6,8,2,3],\n",
    "                   [9,7,2,3,1,1],[1,1,1,2,8,7],[2,2,3,2,8,8],\n",
    "                   [7,9,2,2,2,3],[9,8,2,3,1,3],[7,1,1,9,2,8]], \n",
    "                  columns=[\"horror1\",\"horror2\",\"drama1\",\"drama2\",\"art1\",\"art2\"], \n",
    "                  index=[\"u0\",\"u1\",\"u2\",\"u3\",\"u4\",\"u5\",\"u6\",\"u7\",\"u8\"])\n",
    "\n",
    "\n",
    "df"
   ]
  },
  {
   "cell_type": "markdown",
   "metadata": {},
   "source": [
    "Let us extract the data in the form of a matrix and subtract the mean from each row. "
   ]
  },
  {
   "cell_type": "code",
   "execution_count": 3,
   "metadata": {},
   "outputs": [
    {
     "name": "stdout",
     "output_type": "stream",
     "text": [
      "[[-3.33 -2.33 3.67 4.67 -1.33 -1.33]\n",
      " [-2.33 -3.33 4.67 3.67 -0.33 -2.33]\n",
      " [-1.83 -1.83 2.17 4.17 -1.83 -0.83]\n",
      " [5.17 3.17 -1.83 -0.83 -2.83 -2.83]\n",
      " [-2.33 -2.33 -2.33 -1.33 4.67 3.67]\n",
      " [-2.17 -2.17 -1.17 -2.17 3.83 3.83]\n",
      " [2.83 4.83 -2.17 -2.17 -2.17 -1.17]\n",
      " [4.67 3.67 -2.33 -1.33 -3.33 -1.33]\n",
      " [2.33 -3.67 -3.67 4.33 -2.67 3.33]]\n"
     ]
    }
   ],
   "source": [
    "A = df.values\n",
    "means = np.mean(A,axis=1).reshape((A.shape[0],1))\n",
    "#print(means)\n",
    "A = A - means\n",
    "print(A)"
   ]
  },
  {
   "cell_type": "markdown",
   "metadata": {},
   "source": [
    "Let us also examine on average what is the rating for each movie."
   ]
  },
  {
   "cell_type": "code",
   "execution_count": 4,
   "metadata": {},
   "outputs": [
    {
     "name": "stdout",
     "output_type": "stream",
     "text": [
      "[0.33 -0.44 -0.33 1.00 -0.67 0.11]\n"
     ]
    }
   ],
   "source": [
    "print(np.mean(A,axis=0))"
   ]
  },
  {
   "cell_type": "markdown",
   "metadata": {},
   "source": [
    "## Compute SVD"
   ]
  },
  {
   "cell_type": "code",
   "execution_count": 5,
   "metadata": {},
   "outputs": [
    {
     "name": "stdout",
     "output_type": "stream",
     "text": [
      "U = \n",
      " [[-0.36 -0.40 -0.01 0.37 -0.18 0.60]\n",
      " [-0.37 -0.39 -0.13 -0.50 0.04 -0.04]\n",
      " [-0.24 -0.34 0.13 0.32 -0.15 -0.67]\n",
      " [0.45 -0.21 0.07 -0.49 -0.41 -0.09]\n",
      " [-0.21 0.52 0.11 -0.03 -0.71 0.12]\n",
      " [-0.19 0.49 0.03 -0.03 0.43 -0.10]\n",
      " [0.43 -0.03 -0.08 0.52 -0.15 -0.16]\n",
      " [0.46 -0.13 0.13 0.02 0.22 0.35]\n",
      " [-0.05 -0.06 0.96 -0.02 0.08 0.03]] \n",
      "\n",
      "S =  [15.53 12.20 8.58 2.54 1.27 0.00] \n",
      "\n",
      "VT = \n",
      " [[0.58 0.56 -0.35 -0.35 -0.28 -0.16]\n",
      " [-0.11 -0.04 -0.40 -0.52 0.56 0.50]\n",
      " [0.32 -0.39 -0.52 0.45 -0.30 0.43]\n",
      " [-0.61 0.57 -0.16 0.18 -0.34 0.36]\n",
      " [0.12 -0.19 0.51 -0.45 -0.49 0.50]\n",
      " [0.41 0.41 0.41 0.41 0.41 0.41]] \n",
      "\n"
     ]
    }
   ],
   "source": [
    "U, S, VT = np.linalg.svd(A, full_matrices=False)\n",
    "\n",
    "print(\"U = \\n\", U, \"\\n\")\n",
    "print(\"S = \", S, \"\\n\")\n",
    "print(\"VT = \\n\", VT, \"\\n\")"
   ]
  },
  {
   "cell_type": "markdown",
   "metadata": {},
   "source": [
    "## Dimension Reduction\n",
    "\n",
    "We project the data onto the first $k$ singular vectors (optionally scaled by the corresponding singular values). This gives us the data in a reduced dimension, but should retain the most important information. "
   ]
  },
  {
   "cell_type": "code",
   "execution_count": 6,
   "metadata": {},
   "outputs": [
    {
     "name": "stdout",
     "output_type": "stream",
     "text": [
      "[[139.22 136.08 -85.05 -84.43 -66.66 -39.16]\n",
      " [-16.07 -5.88 -59.02 -76.89 83.39 74.47]\n",
      " [23.56 -28.73 -38.12 33.49 -21.77 31.57]]\n"
     ]
    }
   ],
   "source": [
    "k = 3\n",
    "Ak = np.diag(S[:k]) @ np.transpose(U[:,:k]) @ A\n",
    "#Ak = np.transpose(U[:,:k])  @ A\n",
    "print(Ak)"
   ]
  },
  {
   "cell_type": "markdown",
   "metadata": {},
   "source": [
    "# Using some real data (MovieLens)"
   ]
  },
  {
   "cell_type": "code",
   "execution_count": 8,
   "metadata": {},
   "outputs": [
    {
     "data": {
      "text/html": [
       "<div>\n",
       "<style scoped>\n",
       "    .dataframe tbody tr th:only-of-type {\n",
       "        vertical-align: middle;\n",
       "    }\n",
       "\n",
       "    .dataframe tbody tr th {\n",
       "        vertical-align: top;\n",
       "    }\n",
       "\n",
       "    .dataframe thead th {\n",
       "        text-align: right;\n",
       "    }\n",
       "</style>\n",
       "<table border=\"1\" class=\"dataframe\">\n",
       "  <thead>\n",
       "    <tr style=\"text-align: right;\">\n",
       "      <th></th>\n",
       "      <th>userId</th>\n",
       "      <th>movieId</th>\n",
       "      <th>rating</th>\n",
       "      <th>timestamp</th>\n",
       "    </tr>\n",
       "  </thead>\n",
       "  <tbody>\n",
       "    <tr>\n",
       "      <th>0</th>\n",
       "      <td>1</td>\n",
       "      <td>1</td>\n",
       "      <td>4.0</td>\n",
       "      <td>964982703</td>\n",
       "    </tr>\n",
       "    <tr>\n",
       "      <th>1</th>\n",
       "      <td>1</td>\n",
       "      <td>3</td>\n",
       "      <td>4.0</td>\n",
       "      <td>964981247</td>\n",
       "    </tr>\n",
       "    <tr>\n",
       "      <th>2</th>\n",
       "      <td>1</td>\n",
       "      <td>6</td>\n",
       "      <td>4.0</td>\n",
       "      <td>964982224</td>\n",
       "    </tr>\n",
       "    <tr>\n",
       "      <th>3</th>\n",
       "      <td>1</td>\n",
       "      <td>47</td>\n",
       "      <td>5.0</td>\n",
       "      <td>964983815</td>\n",
       "    </tr>\n",
       "    <tr>\n",
       "      <th>4</th>\n",
       "      <td>1</td>\n",
       "      <td>50</td>\n",
       "      <td>5.0</td>\n",
       "      <td>964982931</td>\n",
       "    </tr>\n",
       "    <tr>\n",
       "      <th>...</th>\n",
       "      <td>...</td>\n",
       "      <td>...</td>\n",
       "      <td>...</td>\n",
       "      <td>...</td>\n",
       "    </tr>\n",
       "    <tr>\n",
       "      <th>100831</th>\n",
       "      <td>610</td>\n",
       "      <td>166534</td>\n",
       "      <td>4.0</td>\n",
       "      <td>1493848402</td>\n",
       "    </tr>\n",
       "    <tr>\n",
       "      <th>100832</th>\n",
       "      <td>610</td>\n",
       "      <td>168248</td>\n",
       "      <td>5.0</td>\n",
       "      <td>1493850091</td>\n",
       "    </tr>\n",
       "    <tr>\n",
       "      <th>100833</th>\n",
       "      <td>610</td>\n",
       "      <td>168250</td>\n",
       "      <td>5.0</td>\n",
       "      <td>1494273047</td>\n",
       "    </tr>\n",
       "    <tr>\n",
       "      <th>100834</th>\n",
       "      <td>610</td>\n",
       "      <td>168252</td>\n",
       "      <td>5.0</td>\n",
       "      <td>1493846352</td>\n",
       "    </tr>\n",
       "    <tr>\n",
       "      <th>100835</th>\n",
       "      <td>610</td>\n",
       "      <td>170875</td>\n",
       "      <td>3.0</td>\n",
       "      <td>1493846415</td>\n",
       "    </tr>\n",
       "  </tbody>\n",
       "</table>\n",
       "<p>100836 rows × 4 columns</p>\n",
       "</div>"
      ],
      "text/plain": [
       "        userId  movieId  rating   timestamp\n",
       "0            1        1     4.0   964982703\n",
       "1            1        3     4.0   964981247\n",
       "2            1        6     4.0   964982224\n",
       "3            1       47     5.0   964983815\n",
       "4            1       50     5.0   964982931\n",
       "...        ...      ...     ...         ...\n",
       "100831     610   166534     4.0  1493848402\n",
       "100832     610   168248     5.0  1493850091\n",
       "100833     610   168250     5.0  1494273047\n",
       "100834     610   168252     5.0  1493846352\n",
       "100835     610   170875     3.0  1493846415\n",
       "\n",
       "[100836 rows x 4 columns]"
      ]
     },
     "execution_count": 8,
     "metadata": {},
     "output_type": "execute_result"
    }
   ],
   "source": [
    "import numpy as np\n",
    "import pandas as pd\n",
    "\n",
    "ratings = pd.read_csv(\"/Users/debapriyo/Onedrive/data/ml-latest-small/ratings.csv\")\n",
    "ratings"
   ]
  },
  {
   "cell_type": "markdown",
   "metadata": {},
   "source": [
    "## Separate some data for testing \n",
    "\n",
    "We will use this data for our experiments. But first, we need to separate some data so that we can test our methods on that. We create a random partition of the indices. "
   ]
  },
  {
   "cell_type": "code",
   "execution_count": 9,
   "metadata": {},
   "outputs": [
    {
     "name": "stdout",
     "output_type": "stream",
     "text": [
      "[84185  8987 21254 ... 82447 94407 60006]\n",
      "[28064 98994 96071 ...  7341 62870 46530]\n"
     ]
    }
   ],
   "source": [
    "# Create the list of indices\n",
    "idx = np.arange(0,len(ratings))\n",
    "\n",
    "# Randomly shuffle them\n",
    "np.random.shuffle(idx)\n",
    "\n",
    "# Size of test data\n",
    "testsize = 5000\n",
    "testidx = idx[0:testsize]\n",
    "trainidx = idx[testsize:]\n",
    "print(testidx)\n",
    "print(trainidx)"
   ]
  },
  {
   "cell_type": "markdown",
   "metadata": {},
   "source": [
    "Now, we partition the dataframe using the two sets of indices. "
   ]
  },
  {
   "cell_type": "code",
   "execution_count": 10,
   "metadata": {},
   "outputs": [
    {
     "data": {
      "text/html": [
       "<div>\n",
       "<style scoped>\n",
       "    .dataframe tbody tr th:only-of-type {\n",
       "        vertical-align: middle;\n",
       "    }\n",
       "\n",
       "    .dataframe tbody tr th {\n",
       "        vertical-align: top;\n",
       "    }\n",
       "\n",
       "    .dataframe thead th {\n",
       "        text-align: right;\n",
       "    }\n",
       "</style>\n",
       "<table border=\"1\" class=\"dataframe\">\n",
       "  <thead>\n",
       "    <tr style=\"text-align: right;\">\n",
       "      <th></th>\n",
       "      <th>userId</th>\n",
       "      <th>movieId</th>\n",
       "      <th>rating</th>\n",
       "      <th>timestamp</th>\n",
       "    </tr>\n",
       "  </thead>\n",
       "  <tbody>\n",
       "    <tr>\n",
       "      <th>84185</th>\n",
       "      <td>537</td>\n",
       "      <td>55946</td>\n",
       "      <td>5.0</td>\n",
       "      <td>1459504338</td>\n",
       "    </tr>\n",
       "    <tr>\n",
       "      <th>8987</th>\n",
       "      <td>62</td>\n",
       "      <td>67734</td>\n",
       "      <td>4.0</td>\n",
       "      <td>1523045470</td>\n",
       "    </tr>\n",
       "    <tr>\n",
       "      <th>21254</th>\n",
       "      <td>140</td>\n",
       "      <td>1580</td>\n",
       "      <td>3.0</td>\n",
       "      <td>1024051464</td>\n",
       "    </tr>\n",
       "    <tr>\n",
       "      <th>71881</th>\n",
       "      <td>462</td>\n",
       "      <td>34048</td>\n",
       "      <td>1.5</td>\n",
       "      <td>1408390468</td>\n",
       "    </tr>\n",
       "    <tr>\n",
       "      <th>69665</th>\n",
       "      <td>448</td>\n",
       "      <td>33615</td>\n",
       "      <td>4.0</td>\n",
       "      <td>1230326215</td>\n",
       "    </tr>\n",
       "    <tr>\n",
       "      <th>...</th>\n",
       "      <td>...</td>\n",
       "      <td>...</td>\n",
       "      <td>...</td>\n",
       "      <td>...</td>\n",
       "    </tr>\n",
       "    <tr>\n",
       "      <th>21529</th>\n",
       "      <td>140</td>\n",
       "      <td>5292</td>\n",
       "      <td>2.0</td>\n",
       "      <td>1037013502</td>\n",
       "    </tr>\n",
       "    <tr>\n",
       "      <th>79989</th>\n",
       "      <td>500</td>\n",
       "      <td>3751</td>\n",
       "      <td>4.0</td>\n",
       "      <td>1005527614</td>\n",
       "    </tr>\n",
       "    <tr>\n",
       "      <th>82447</th>\n",
       "      <td>523</td>\n",
       "      <td>31696</td>\n",
       "      <td>5.0</td>\n",
       "      <td>1503133561</td>\n",
       "    </tr>\n",
       "    <tr>\n",
       "      <th>94407</th>\n",
       "      <td>599</td>\n",
       "      <td>26870</td>\n",
       "      <td>2.5</td>\n",
       "      <td>1498515044</td>\n",
       "    </tr>\n",
       "    <tr>\n",
       "      <th>60006</th>\n",
       "      <td>387</td>\n",
       "      <td>6783</td>\n",
       "      <td>4.0</td>\n",
       "      <td>1094876963</td>\n",
       "    </tr>\n",
       "  </tbody>\n",
       "</table>\n",
       "<p>5000 rows × 4 columns</p>\n",
       "</div>"
      ],
      "text/plain": [
       "       userId  movieId  rating   timestamp\n",
       "84185     537    55946     5.0  1459504338\n",
       "8987       62    67734     4.0  1523045470\n",
       "21254     140     1580     3.0  1024051464\n",
       "71881     462    34048     1.5  1408390468\n",
       "69665     448    33615     4.0  1230326215\n",
       "...       ...      ...     ...         ...\n",
       "21529     140     5292     2.0  1037013502\n",
       "79989     500     3751     4.0  1005527614\n",
       "82447     523    31696     5.0  1503133561\n",
       "94407     599    26870     2.5  1498515044\n",
       "60006     387     6783     4.0  1094876963\n",
       "\n",
       "[5000 rows x 4 columns]"
      ]
     },
     "execution_count": 10,
     "metadata": {},
     "output_type": "execute_result"
    }
   ],
   "source": [
    "# The sample for testing\n",
    "ratings_test = ratings.iloc[testidx]\n",
    "ratings_test"
   ]
  },
  {
   "cell_type": "code",
   "execution_count": 11,
   "metadata": {},
   "outputs": [
    {
     "data": {
      "text/html": [
       "<div>\n",
       "<style scoped>\n",
       "    .dataframe tbody tr th:only-of-type {\n",
       "        vertical-align: middle;\n",
       "    }\n",
       "\n",
       "    .dataframe tbody tr th {\n",
       "        vertical-align: top;\n",
       "    }\n",
       "\n",
       "    .dataframe thead th {\n",
       "        text-align: right;\n",
       "    }\n",
       "</style>\n",
       "<table border=\"1\" class=\"dataframe\">\n",
       "  <thead>\n",
       "    <tr style=\"text-align: right;\">\n",
       "      <th></th>\n",
       "      <th>userId</th>\n",
       "      <th>movieId</th>\n",
       "      <th>rating</th>\n",
       "      <th>timestamp</th>\n",
       "    </tr>\n",
       "  </thead>\n",
       "  <tbody>\n",
       "    <tr>\n",
       "      <th>28064</th>\n",
       "      <td>193</td>\n",
       "      <td>55442</td>\n",
       "      <td>5.0</td>\n",
       "      <td>1435857327</td>\n",
       "    </tr>\n",
       "    <tr>\n",
       "      <th>98994</th>\n",
       "      <td>608</td>\n",
       "      <td>2023</td>\n",
       "      <td>4.5</td>\n",
       "      <td>1189471155</td>\n",
       "    </tr>\n",
       "    <tr>\n",
       "      <th>96071</th>\n",
       "      <td>602</td>\n",
       "      <td>500</td>\n",
       "      <td>4.0</td>\n",
       "      <td>840875720</td>\n",
       "    </tr>\n",
       "    <tr>\n",
       "      <th>64519</th>\n",
       "      <td>414</td>\n",
       "      <td>45635</td>\n",
       "      <td>3.0</td>\n",
       "      <td>1216149238</td>\n",
       "    </tr>\n",
       "    <tr>\n",
       "      <th>90094</th>\n",
       "      <td>586</td>\n",
       "      <td>2028</td>\n",
       "      <td>2.5</td>\n",
       "      <td>1529899290</td>\n",
       "    </tr>\n",
       "    <tr>\n",
       "      <th>...</th>\n",
       "      <td>...</td>\n",
       "      <td>...</td>\n",
       "      <td>...</td>\n",
       "      <td>...</td>\n",
       "    </tr>\n",
       "    <tr>\n",
       "      <th>33590</th>\n",
       "      <td>227</td>\n",
       "      <td>32587</td>\n",
       "      <td>4.0</td>\n",
       "      <td>1447210527</td>\n",
       "    </tr>\n",
       "    <tr>\n",
       "      <th>49246</th>\n",
       "      <td>318</td>\n",
       "      <td>4776</td>\n",
       "      <td>4.0</td>\n",
       "      <td>1271003459</td>\n",
       "    </tr>\n",
       "    <tr>\n",
       "      <th>7341</th>\n",
       "      <td>50</td>\n",
       "      <td>106782</td>\n",
       "      <td>3.0</td>\n",
       "      <td>1514238685</td>\n",
       "    </tr>\n",
       "    <tr>\n",
       "      <th>62870</th>\n",
       "      <td>414</td>\n",
       "      <td>1625</td>\n",
       "      <td>4.0</td>\n",
       "      <td>961437391</td>\n",
       "    </tr>\n",
       "    <tr>\n",
       "      <th>46530</th>\n",
       "      <td>305</td>\n",
       "      <td>106918</td>\n",
       "      <td>5.0</td>\n",
       "      <td>1460563900</td>\n",
       "    </tr>\n",
       "  </tbody>\n",
       "</table>\n",
       "<p>95836 rows × 4 columns</p>\n",
       "</div>"
      ],
      "text/plain": [
       "       userId  movieId  rating   timestamp\n",
       "28064     193    55442     5.0  1435857327\n",
       "98994     608     2023     4.5  1189471155\n",
       "96071     602      500     4.0   840875720\n",
       "64519     414    45635     3.0  1216149238\n",
       "90094     586     2028     2.5  1529899290\n",
       "...       ...      ...     ...         ...\n",
       "33590     227    32587     4.0  1447210527\n",
       "49246     318     4776     4.0  1271003459\n",
       "7341       50   106782     3.0  1514238685\n",
       "62870     414     1625     4.0   961437391\n",
       "46530     305   106918     5.0  1460563900\n",
       "\n",
       "[95836 rows x 4 columns]"
      ]
     },
     "execution_count": 11,
     "metadata": {},
     "output_type": "execute_result"
    }
   ],
   "source": [
    "# The rest of the data\n",
    "ratings = ratings.iloc[trainidx]\n",
    "ratings"
   ]
  },
  {
   "cell_type": "markdown",
   "metadata": {},
   "source": [
    "## Creating the ratings matrix from the data\n",
    "\n",
    "Instead of a 2-D array, we will create a sparse matrix first. We will use the rows as the items and columns as the users. However, we will have to make this matrix dense for some reasons. "
   ]
  },
  {
   "cell_type": "code",
   "execution_count": 13,
   "metadata": {},
   "outputs": [
    {
     "name": "stdout",
     "output_type": "stream",
     "text": [
      "The data has 193609 items with 610 dimensions (users).\n"
     ]
    }
   ],
   "source": [
    "from scipy.sparse import csr_matrix\n",
    "\n",
    "users = ratings[\"userId\"].values.astype(int)\n",
    "movies = ratings[\"movieId\"].values.astype(int)\n",
    "vals = ratings[\"rating\"].values\n",
    "\n",
    "RS = csr_matrix((vals,(users-1,movies-1)))\n",
    "\n",
    "print(\"The data has %d items with %d dimensions (users).\" %(RS.shape[1], RS.shape[0]))"
   ]
  },
  {
   "cell_type": "code",
   "execution_count": 14,
   "metadata": {},
   "outputs": [],
   "source": [
    "# Converting it to a dense matrix\n",
    "R = RS.todense()"
   ]
  },
  {
   "cell_type": "markdown",
   "metadata": {},
   "source": [
    "## Fill the zero entries with average ratings \n",
    "\n",
    "The zero entries in this matrix are those for which the corresponding user has not rated the movie. In other words, those ratings are not zero, rather unknown. To start with, we fill the zero entries by the average ratings obtained by the movies (from users who have rated that movie). "
   ]
  },
  {
   "cell_type": "code",
   "execution_count": 15,
   "metadata": {},
   "outputs": [],
   "source": [
    "def colmeans(R):\n",
    "    # Sum of the ratings for each movie\n",
    "    sums = np.sum(R, axis=0)\n",
    "    #print(sums.shape)\n",
    "\n",
    "    # Number of non-zero entries for each movie (number of ratings)\n",
    "    nzcounts = np.sum(R.astype(bool), axis=0) + 1\n",
    "    #print(nzcounts.shape)\n",
    "\n",
    "    # The average ratings for each movie\n",
    "    means = sums/nzcounts\n",
    "    #print(means.shape)\n",
    "    \n",
    "    return means"
   ]
  },
  {
   "cell_type": "code",
   "execution_count": 16,
   "metadata": {},
   "outputs": [
    {
     "name": "stdout",
     "output_type": "stream",
     "text": [
      "(1, 193609)\n",
      "184057\n"
     ]
    }
   ],
   "source": [
    "means = colmeans(R)\n",
    "print(means.shape)\n",
    "\n",
    "count = 0\n",
    "for i in range(means.shape[1]):\n",
    "    if (means[0,i]==0):\n",
    "        count = count + 1\n",
    "print(count)"
   ]
  },
  {
   "cell_type": "markdown",
   "metadata": {},
   "source": [
    "### Adding the mean vector (mean rating of each movie) to each column\n",
    "\n",
    "Instead of running through loops, we will use masking. We create a Boolean matrix zero_R such that an entry of zero_R is True if and only if the corresponding entry of R is zero. "
   ]
  },
  {
   "cell_type": "code",
   "execution_count": 17,
   "metadata": {},
   "outputs": [
    {
     "name": "stdout",
     "output_type": "stream",
     "text": [
      "[[1 2 3 4]\n",
      " [0 1 0 2]]\n",
      "[3 2]\n"
     ]
    }
   ],
   "source": [
    "# Demo on masking\n",
    "\n",
    "M = np.array([[1,2,3,4],[0,1,0,2]])\n",
    "print(M)\n",
    "\n",
    "zero_M = M==0\n",
    "#print(zero_M)\n",
    "\n",
    "# Ref. testing for RMSE_code \n",
    "M_selected = M[[0,1],[2,3]]\n",
    "print(M_selected)"
   ]
  },
  {
   "cell_type": "code",
   "execution_count": 18,
   "metadata": {},
   "outputs": [
    {
     "name": "stdout",
     "output_type": "stream",
     "text": [
      "(610, 193609)\n",
      "[[False  True False ...  True  True  True]\n",
      " [ True  True  True ...  True  True  True]\n",
      " [ True  True  True ...  True  True  True]\n",
      " ...\n",
      " [False False False ...  True  True  True]\n",
      " [False  True  True ...  True  True  True]\n",
      " [False  True  True ...  True  True  True]]\n"
     ]
    }
   ],
   "source": [
    "# The boolean matrix (True/False entries) w\n",
    "\n",
    "zero_R = R==0\n",
    "print(zero_R.shape)\n",
    "print(zero_R)"
   ]
  },
  {
   "cell_type": "markdown",
   "metadata": {},
   "source": [
    "Next, we multiply (element wise) zero_R to the broadcasted mean vector to get a matrix where an entry is zero if the corresponding entry in R was non zero, and an entry is the mean rating if the corresponding entry in R was zero (not rated)."
   ]
  },
  {
   "cell_type": "code",
   "execution_count": 19,
   "metadata": {},
   "outputs": [
    {
     "name": "stdout",
     "output_type": "stream",
     "text": [
      "(610, 193609)\n",
      "[[0.00 3.38 0.00 ... 0.00 0.00 2.00]\n",
      " [3.89 3.38 3.20 ... 0.00 0.00 2.00]\n",
      " [3.89 3.38 3.20 ... 0.00 0.00 2.00]\n",
      " ...\n",
      " [0.00 0.00 0.00 ... 0.00 0.00 2.00]\n",
      " [0.00 3.38 3.20 ... 0.00 0.00 2.00]\n",
      " [0.00 3.38 3.20 ... 0.00 0.00 2.00]]\n"
     ]
    }
   ],
   "source": [
    "unrated_R = np.multiply(means, zero_R)\n",
    "print(unrated_R.shape)\n",
    "print(unrated_R)"
   ]
  },
  {
   "cell_type": "markdown",
   "metadata": {},
   "source": [
    "Now, we add the unrated part of R with original R. "
   ]
  },
  {
   "cell_type": "code",
   "execution_count": 20,
   "metadata": {},
   "outputs": [
    {
     "name": "stdout",
     "output_type": "stream",
     "text": [
      "[[4.00 3.38 4.00 ... 0.00 0.00 2.00]\n",
      " [3.89 3.38 3.20 ... 0.00 0.00 2.00]\n",
      " [3.89 3.38 3.20 ... 0.00 0.00 2.00]\n",
      " ...\n",
      " [2.50 2.00 2.00 ... 0.00 0.00 2.00]\n",
      " [3.00 3.38 3.20 ... 0.00 0.00 2.00]\n",
      " [5.00 3.38 3.20 ... 0.00 0.00 2.00]]\n"
     ]
    }
   ],
   "source": [
    "R1 = R + unrated_R\n",
    "\n",
    "print(R1)"
   ]
  },
  {
   "cell_type": "markdown",
   "metadata": {},
   "source": [
    "## A naive prediction of ratings by average ratings\n",
    "\n",
    "The matrix R1 is already a naive prediction of the ratings. Let us test how good that is. First, we convert our test data (ratings which are known but were separated in the beginning) into a sparse matrix."
   ]
  },
  {
   "cell_type": "code",
   "execution_count": 21,
   "metadata": {},
   "outputs": [
    {
     "name": "stdout",
     "output_type": "stream",
     "text": [
      "[537  62 140 ... 523 599 387]\n",
      "[55946 67734  1580 ... 31696 26870  6783]\n",
      "[5.00 4.00 3.00 ... 5.00 2.50 4.00]\n"
     ]
    }
   ],
   "source": [
    "users_test = ratings_test[\"userId\"].values.astype(int)\n",
    "movies_test = ratings_test[\"movieId\"].values.astype(int)\n",
    "vals_test = ratings_test[\"rating\"].values\n",
    "\n",
    "print(users_test)\n",
    "print(movies_test)\n",
    "print(vals_test)"
   ]
  },
  {
   "cell_type": "markdown",
   "metadata": {},
   "source": [
    "We write a function to compute Root Mean Squared Error (RMSE) for any matrix with same dimensions as R against the test data."
   ]
  },
  {
   "cell_type": "code",
   "execution_count": 22,
   "metadata": {},
   "outputs": [],
   "source": [
    "def RMSE_ratings(R_pred, users_test, movies_test, vals_test):\n",
    "    R_pred_selected = R_pred[users_test-1,movies_test-1]\n",
    "    #print(R_pred_selected.shape)\n",
    "    error = R_pred_selected - vals_test\n",
    "    #print(error)\n",
    "    return np.sqrt(np.mean(np.multiply(error,error)))"
   ]
  },
  {
   "cell_type": "markdown",
   "metadata": {},
   "source": [
    "And we test the RMSE with the matrix R1."
   ]
  },
  {
   "cell_type": "code",
   "execution_count": 24,
   "metadata": {},
   "outputs": [
    {
     "name": "stdout",
     "output_type": "stream",
     "text": [
      "1.191589638882998\n"
     ]
    }
   ],
   "source": [
    "import numpy as np\n",
    "from scipy.sparse import csc_matrix\n",
    "\n",
    "#A = np.array([[1,2,3,4],[5,6,7,8],[9,10,11,12]])\n",
    "#B = np.array([[1,0,0,0],[0,0,1,0],[0,1,0,1]])\n",
    "\n",
    "#u = np.array([1,2,1,2,3])\n",
    "#m = np.array([1,0,0,3,2])\n",
    "#v = np.array([0.5,2,1,1.5,2.5])\n",
    "\n",
    "#C = csr_matrix(B)\n",
    "#Z = C != 0\n",
    "\n",
    "print(RMSE_ratings(R1, users_test, movies_test, vals_test))"
   ]
  },
  {
   "cell_type": "markdown",
   "metadata": {},
   "source": [
    "## Back to SVD: Center the data (R1)\n",
    "\n",
    "We center the data by making the mean of all columns zero. "
   ]
  },
  {
   "cell_type": "code",
   "execution_count": 25,
   "metadata": {},
   "outputs": [],
   "source": [
    "def centerrows(R1):\n",
    "    # Center the columns (users)\n",
    "    means = np.mean(R1, axis=1)\n",
    "    #print(means)\n",
    "    print(R1.shape)\n",
    "    print(means.shape)\n",
    "    return R1 - means"
   ]
  },
  {
   "cell_type": "code",
   "execution_count": 26,
   "metadata": {},
   "outputs": [
    {
     "name": "stdout",
     "output_type": "stream",
     "text": [
      "(610, 193609)\n",
      "(610, 1)\n",
      "[[3.88 3.26 3.88 ... -0.12 -0.12 1.88]\n",
      " [3.78 3.26 3.08 ... -0.12 -0.12 1.88]\n",
      " [3.78 3.26 3.08 ... -0.12 -0.12 1.88]\n",
      " ...\n",
      " [2.38 1.88 1.88 ... -0.12 -0.12 1.88]\n",
      " [2.88 3.26 3.08 ... -0.12 -0.12 1.88]\n",
      " [4.88 3.26 3.08 ... -0.12 -0.12 1.88]]\n"
     ]
    }
   ],
   "source": [
    "R2 = centerrows(R1)\n",
    "print(R2)"
   ]
  },
  {
   "cell_type": "markdown",
   "metadata": {},
   "source": [
    "## SVD \n",
    "\n",
    "Let us compute the SVD of the matrix now. "
   ]
  },
  {
   "cell_type": "code",
   "execution_count": 27,
   "metadata": {},
   "outputs": [
    {
     "name": "stdout",
     "output_type": "stream",
     "text": [
      "(610, 610) (610,) (610, 193609)\n"
     ]
    }
   ],
   "source": [
    "U, S, VT = np.linalg.svd(R2, full_matrices=False)\n",
    "\n",
    "print(U.shape, S.shape, VT.shape)"
   ]
  },
  {
   "cell_type": "markdown",
   "metadata": {},
   "source": [
    "# The low rank approximation\n",
    "\n",
    "The low rank approximation is defined by $R_k = U_k S_k V_k^T$. The dimensions will remain the same as before. "
   ]
  },
  {
   "cell_type": "code",
   "execution_count": 28,
   "metadata": {},
   "outputs": [],
   "source": [
    "def lowrank(U,S,VT,k):\n",
    "    # Let us fix k\n",
    "\n",
    "    Uk = U[:,:k]\n",
    "    #print(Uk.shape)\n",
    "\n",
    "    Sk = np.diag(S[:k])\n",
    "    #print(Sk.shape)\n",
    "\n",
    "    Vk = VT[:k,:]\n",
    "    #print(Vk.shape)\n",
    "\n",
    "    return Uk @ Sk @ Vk"
   ]
  },
  {
   "cell_type": "markdown",
   "metadata": {},
   "source": [
    "## Moving back the columns from the center\n",
    "\n",
    "Now we need to add the mean of the columns back."
   ]
  },
  {
   "cell_type": "code",
   "execution_count": 29,
   "metadata": {},
   "outputs": [
    {
     "name": "stdout",
     "output_type": "stream",
     "text": [
      "3.2814226469723633\n",
      "k =  10 , RMSE:  1.1657066710751611\n",
      "3.279668202914347\n",
      "k =  20 , RMSE:  1.168078566002584\n",
      "3.283208687917726\n",
      "k =  30 , RMSE:  1.166099370218235\n",
      "3.2577291613474553\n",
      "k =  50 , RMSE:  1.1680264906370068\n"
     ]
    }
   ],
   "source": [
    "k_range = np.array([10,20,30,50])\n",
    "rmse = np.zeros(len(k_range))\n",
    "\n",
    "for k in k_range:\n",
    "    Rk1 = lowrank(U,S,VT,k) + R1 - R2\n",
    "    #print(Rk1.shape)\n",
    "    print(Rk1[381,256])\n",
    "    rmse = RMSE_ratings(Rk1, users_test, movies_test, vals_test)\n",
    "    print(\"k = \", k, \", RMSE: \", rmse)"
   ]
  },
  {
   "cell_type": "code",
   "execution_count": null,
   "metadata": {},
   "outputs": [],
   "source": []
  }
 ],
 "metadata": {
  "kernelspec": {
   "display_name": "Python 3 (ipykernel)",
   "language": "python",
   "name": "python3"
  },
  "language_info": {
   "codemirror_mode": {
    "name": "ipython",
    "version": 3
   },
   "file_extension": ".py",
   "mimetype": "text/x-python",
   "name": "python",
   "nbconvert_exporter": "python",
   "pygments_lexer": "ipython3",
   "version": "3.9.12"
  }
 },
 "nbformat": 4,
 "nbformat_minor": 2
}
